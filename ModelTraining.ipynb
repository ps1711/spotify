{
 "cells": [
  {
   "cell_type": "code",
   "execution_count": 2,
   "id": "f96c2abf-1689-4d8c-81bd-db34bae41a92",
   "metadata": {},
   "outputs": [],
   "source": [
    "import pandas as pd\n",
    "df = pd.read_csv(r\"spotify_millsongdata.csv\")\n",
    "df_sample = df.sample(frac = 0.1)"
   ]
  },
  {
   "cell_type": "code",
   "execution_count": 3,
   "id": "e3cd3467-7836-40eb-b8ae-f0713e9c38fb",
   "metadata": {},
   "outputs": [
    {
     "data": {
      "text/html": [
       "<div>\n",
       "<style scoped>\n",
       "    .dataframe tbody tr th:only-of-type {\n",
       "        vertical-align: middle;\n",
       "    }\n",
       "\n",
       "    .dataframe tbody tr th {\n",
       "        vertical-align: top;\n",
       "    }\n",
       "\n",
       "    .dataframe thead th {\n",
       "        text-align: right;\n",
       "    }\n",
       "</style>\n",
       "<table border=\"1\" class=\"dataframe\">\n",
       "  <thead>\n",
       "    <tr style=\"text-align: right;\">\n",
       "      <th></th>\n",
       "      <th>artist</th>\n",
       "      <th>song</th>\n",
       "      <th>link</th>\n",
       "      <th>text</th>\n",
       "    </tr>\n",
       "  </thead>\n",
       "  <tbody>\n",
       "    <tr>\n",
       "      <th>28193</th>\n",
       "      <td>Conway Twitty</td>\n",
       "      <td>Fever</td>\n",
       "      <td>/c/conway+twitty/fever_20869855.html</td>\n",
       "      <td>Never know how much I love you,  \\r\\nNever kno...</td>\n",
       "    </tr>\n",
       "    <tr>\n",
       "      <th>15116</th>\n",
       "      <td>Otis Redding</td>\n",
       "      <td>New Year's Resolution</td>\n",
       "      <td>/o/otis+redding/new+years+resolution_20288645....</td>\n",
       "      <td>I hope it's not too late  \\r\\nJust to say that...</td>\n",
       "    </tr>\n",
       "    <tr>\n",
       "      <th>27976</th>\n",
       "      <td>Clash</td>\n",
       "      <td>Cheapskates</td>\n",
       "      <td>/c/clash/cheapskates_20031804.html</td>\n",
       "      <td>I have been a washer up  \\r\\nAn' he has been a...</td>\n",
       "    </tr>\n",
       "    <tr>\n",
       "      <th>7582</th>\n",
       "      <td>Harry Connick, Jr.</td>\n",
       "      <td>It's Beginning To Look A Lot Like Christmas</td>\n",
       "      <td>/h/harry+connick+jr/its+beginning+to+look+a+lo...</td>\n",
       "      <td>It's beginning to look  \\r\\nA lot like Christm...</td>\n",
       "    </tr>\n",
       "    <tr>\n",
       "      <th>34509</th>\n",
       "      <td>Grateful Dead</td>\n",
       "      <td>I'll Take A Melody</td>\n",
       "      <td>/g/grateful+dead/ill+take+a+melody_20806557.html</td>\n",
       "      <td>I've seen the rain pouring down  \\r\\nThe sky w...</td>\n",
       "    </tr>\n",
       "  </tbody>\n",
       "</table>\n",
       "</div>"
      ],
      "text/plain": [
       "                   artist                                         song  \\\n",
       "28193       Conway Twitty                                        Fever   \n",
       "15116        Otis Redding                        New Year's Resolution   \n",
       "27976               Clash                                  Cheapskates   \n",
       "7582   Harry Connick, Jr.  It's Beginning To Look A Lot Like Christmas   \n",
       "34509       Grateful Dead                           I'll Take A Melody   \n",
       "\n",
       "                                                    link  \\\n",
       "28193               /c/conway+twitty/fever_20869855.html   \n",
       "15116  /o/otis+redding/new+years+resolution_20288645....   \n",
       "27976                 /c/clash/cheapskates_20031804.html   \n",
       "7582   /h/harry+connick+jr/its+beginning+to+look+a+lo...   \n",
       "34509   /g/grateful+dead/ill+take+a+melody_20806557.html   \n",
       "\n",
       "                                                    text  \n",
       "28193  Never know how much I love you,  \\r\\nNever kno...  \n",
       "15116  I hope it's not too late  \\r\\nJust to say that...  \n",
       "27976  I have been a washer up  \\r\\nAn' he has been a...  \n",
       "7582   It's beginning to look  \\r\\nA lot like Christm...  \n",
       "34509  I've seen the rain pouring down  \\r\\nThe sky w...  "
      ]
     },
     "execution_count": 3,
     "metadata": {},
     "output_type": "execute_result"
    }
   ],
   "source": [
    "df_sample.head(5)"
   ]
  },
  {
   "cell_type": "code",
   "execution_count": 4,
   "id": "c34be426-1dfa-4e64-97b1-812ecebe88f3",
   "metadata": {},
   "outputs": [
    {
     "data": {
      "text/html": [
       "<div>\n",
       "<style scoped>\n",
       "    .dataframe tbody tr th:only-of-type {\n",
       "        vertical-align: middle;\n",
       "    }\n",
       "\n",
       "    .dataframe tbody tr th {\n",
       "        vertical-align: top;\n",
       "    }\n",
       "\n",
       "    .dataframe thead th {\n",
       "        text-align: right;\n",
       "    }\n",
       "</style>\n",
       "<table border=\"1\" class=\"dataframe\">\n",
       "  <thead>\n",
       "    <tr style=\"text-align: right;\">\n",
       "      <th></th>\n",
       "      <th>artist</th>\n",
       "      <th>song</th>\n",
       "      <th>link</th>\n",
       "      <th>text</th>\n",
       "    </tr>\n",
       "  </thead>\n",
       "  <tbody>\n",
       "    <tr>\n",
       "      <th>57645</th>\n",
       "      <td>Ziggy Marley</td>\n",
       "      <td>Good Old Days</td>\n",
       "      <td>/z/ziggy+marley/good+old+days_10198588.html</td>\n",
       "      <td>Irie days come on play  \\r\\nLet the angels fly...</td>\n",
       "    </tr>\n",
       "    <tr>\n",
       "      <th>57646</th>\n",
       "      <td>Ziggy Marley</td>\n",
       "      <td>Hand To Mouth</td>\n",
       "      <td>/z/ziggy+marley/hand+to+mouth_20531167.html</td>\n",
       "      <td>Power to the workers  \\r\\nMore power  \\r\\nPowe...</td>\n",
       "    </tr>\n",
       "    <tr>\n",
       "      <th>57647</th>\n",
       "      <td>Zwan</td>\n",
       "      <td>Come With Me</td>\n",
       "      <td>/z/zwan/come+with+me_20148981.html</td>\n",
       "      <td>all you need  \\r\\nis something i'll believe  \\...</td>\n",
       "    </tr>\n",
       "    <tr>\n",
       "      <th>57648</th>\n",
       "      <td>Zwan</td>\n",
       "      <td>Desire</td>\n",
       "      <td>/z/zwan/desire_20148986.html</td>\n",
       "      <td>northern star  \\r\\nam i frightened  \\r\\nwhere ...</td>\n",
       "    </tr>\n",
       "    <tr>\n",
       "      <th>57649</th>\n",
       "      <td>Zwan</td>\n",
       "      <td>Heartsong</td>\n",
       "      <td>/z/zwan/heartsong_20148991.html</td>\n",
       "      <td>come in  \\r\\nmake yourself at home  \\r\\ni'm a ...</td>\n",
       "    </tr>\n",
       "  </tbody>\n",
       "</table>\n",
       "</div>"
      ],
      "text/plain": [
       "             artist           song  \\\n",
       "57645  Ziggy Marley  Good Old Days   \n",
       "57646  Ziggy Marley  Hand To Mouth   \n",
       "57647          Zwan   Come With Me   \n",
       "57648          Zwan         Desire   \n",
       "57649          Zwan      Heartsong   \n",
       "\n",
       "                                              link  \\\n",
       "57645  /z/ziggy+marley/good+old+days_10198588.html   \n",
       "57646  /z/ziggy+marley/hand+to+mouth_20531167.html   \n",
       "57647           /z/zwan/come+with+me_20148981.html   \n",
       "57648                 /z/zwan/desire_20148986.html   \n",
       "57649              /z/zwan/heartsong_20148991.html   \n",
       "\n",
       "                                                    text  \n",
       "57645  Irie days come on play  \\r\\nLet the angels fly...  \n",
       "57646  Power to the workers  \\r\\nMore power  \\r\\nPowe...  \n",
       "57647  all you need  \\r\\nis something i'll believe  \\...  \n",
       "57648  northern star  \\r\\nam i frightened  \\r\\nwhere ...  \n",
       "57649  come in  \\r\\nmake yourself at home  \\r\\ni'm a ...  "
      ]
     },
     "execution_count": 4,
     "metadata": {},
     "output_type": "execute_result"
    }
   ],
   "source": [
    "df.tail(5)"
   ]
  },
  {
   "cell_type": "code",
   "execution_count": 5,
   "id": "96095e67-4dac-4b41-b0d5-241a1db95b44",
   "metadata": {},
   "outputs": [
    {
     "data": {
      "text/plain": [
       "(5765, 4)"
      ]
     },
     "execution_count": 5,
     "metadata": {},
     "output_type": "execute_result"
    }
   ],
   "source": [
    "df_sample.shape"
   ]
  },
  {
   "cell_type": "code",
   "execution_count": 6,
   "id": "47f4cdbe-393c-400d-a668-a60360a648b7",
   "metadata": {},
   "outputs": [
    {
     "data": {
      "text/plain": [
       "artist    0\n",
       "song      0\n",
       "link      0\n",
       "text      0\n",
       "dtype: int64"
      ]
     },
     "execution_count": 6,
     "metadata": {},
     "output_type": "execute_result"
    }
   ],
   "source": [
    "df_sample.isnull().sum()"
   ]
  },
  {
   "cell_type": "code",
   "execution_count": 7,
   "id": "cc334125-0695-489a-a4a8-ed17b843c334",
   "metadata": {},
   "outputs": [],
   "source": [
    "df_sample = df_sample.drop('link',axis = 1).reset_index(drop=True)"
   ]
  },
  {
   "cell_type": "code",
   "execution_count": 8,
   "id": "e90f390a-3aca-466d-bb4b-d795ba8ac948",
   "metadata": {},
   "outputs": [
    {
     "data": {
      "text/html": [
       "<div>\n",
       "<style scoped>\n",
       "    .dataframe tbody tr th:only-of-type {\n",
       "        vertical-align: middle;\n",
       "    }\n",
       "\n",
       "    .dataframe tbody tr th {\n",
       "        vertical-align: top;\n",
       "    }\n",
       "\n",
       "    .dataframe thead th {\n",
       "        text-align: right;\n",
       "    }\n",
       "</style>\n",
       "<table border=\"1\" class=\"dataframe\">\n",
       "  <thead>\n",
       "    <tr style=\"text-align: right;\">\n",
       "      <th></th>\n",
       "      <th>artist</th>\n",
       "      <th>song</th>\n",
       "      <th>text</th>\n",
       "    </tr>\n",
       "  </thead>\n",
       "  <tbody>\n",
       "    <tr>\n",
       "      <th>0</th>\n",
       "      <td>Conway Twitty</td>\n",
       "      <td>Fever</td>\n",
       "      <td>Never know how much I love you,  \\r\\nNever kno...</td>\n",
       "    </tr>\n",
       "    <tr>\n",
       "      <th>1</th>\n",
       "      <td>Otis Redding</td>\n",
       "      <td>New Year's Resolution</td>\n",
       "      <td>I hope it's not too late  \\r\\nJust to say that...</td>\n",
       "    </tr>\n",
       "    <tr>\n",
       "      <th>2</th>\n",
       "      <td>Clash</td>\n",
       "      <td>Cheapskates</td>\n",
       "      <td>I have been a washer up  \\r\\nAn' he has been a...</td>\n",
       "    </tr>\n",
       "    <tr>\n",
       "      <th>3</th>\n",
       "      <td>Harry Connick, Jr.</td>\n",
       "      <td>It's Beginning To Look A Lot Like Christmas</td>\n",
       "      <td>It's beginning to look  \\r\\nA lot like Christm...</td>\n",
       "    </tr>\n",
       "    <tr>\n",
       "      <th>4</th>\n",
       "      <td>Grateful Dead</td>\n",
       "      <td>I'll Take A Melody</td>\n",
       "      <td>I've seen the rain pouring down  \\r\\nThe sky w...</td>\n",
       "    </tr>\n",
       "  </tbody>\n",
       "</table>\n",
       "</div>"
      ],
      "text/plain": [
       "               artist                                         song  \\\n",
       "0       Conway Twitty                                        Fever   \n",
       "1        Otis Redding                        New Year's Resolution   \n",
       "2               Clash                                  Cheapskates   \n",
       "3  Harry Connick, Jr.  It's Beginning To Look A Lot Like Christmas   \n",
       "4       Grateful Dead                           I'll Take A Melody   \n",
       "\n",
       "                                                text  \n",
       "0  Never know how much I love you,  \\r\\nNever kno...  \n",
       "1  I hope it's not too late  \\r\\nJust to say that...  \n",
       "2  I have been a washer up  \\r\\nAn' he has been a...  \n",
       "3  It's beginning to look  \\r\\nA lot like Christm...  \n",
       "4  I've seen the rain pouring down  \\r\\nThe sky w...  "
      ]
     },
     "execution_count": 8,
     "metadata": {},
     "output_type": "execute_result"
    }
   ],
   "source": [
    "df_sample.head(5)"
   ]
  },
  {
   "cell_type": "code",
   "execution_count": 9,
   "id": "4c871aa7-5c01-4301-a6e0-cee3caa23e69",
   "metadata": {},
   "outputs": [
    {
     "data": {
      "text/plain": [
       "\"Never know how much I love you,  \\r\\nNever know how much I care  \\r\\nWhen you put your arms around me,  \\r\\nI get a fever that's so hard to bear.  \\r\\n  \\r\\nYou give me fever - when you kiss me,  \\r\\nFever when you hold me tight  \\r\\nFever - in the morning,  \\r\\nFever all through the night.  \\r\\n  \\r\\nSun lights up the daytime,  \\r\\nMoon lights up the night  \\r\\nI light up when you call my name,  \\r\\nBecause you know I'm gonna treat you right  \\r\\n  \\r\\nYou give me fever - when you kiss me,  \\r\\nFever when you hold me tight  \\r\\nFever - in the morning,  \\r\\nFever all through the night.  \\r\\n  \\r\\nNow listen to me baby  \\r\\nAnd hear every word I say  \\r\\nNo one can love you like I do  \\r\\n'Cause they don't know how to love you my way  \\r\\n  \\r\\nYou give me fever - when you kiss me,  \\r\\nFever when you hold me tight  \\r\\nFever - in the morning,  \\r\\nFever all through the night.  \\r\\n  \\r\\nWell, now you've heard my story,  \\r\\nHere's the point that I have made:  \\r\\nChicks were born to give you fever,  \\r\\nBe it fahrenheit or centigrade  \\r\\n  \\r\\nThey give you fever - yeah, when you kiss them,  \\r\\nFever when you live and learn  \\r\\nFever - till you sizzle,  \\r\\nWhat a lovely way to burn.  \\r\\n  \\r\\nWhat a lovely way to burn.  \\r\\nWhat a lovely way to burn...\\r\\n\\r\\n\""
      ]
     },
     "execution_count": 9,
     "metadata": {},
     "output_type": "execute_result"
    }
   ],
   "source": [
    "df_sample['text'][0]"
   ]
  },
  {
   "cell_type": "code",
   "execution_count": null,
   "id": "7e2a3ec4-54a3-4616-83bc-c1948d45b280",
   "metadata": {},
   "outputs": [],
   "source": []
  },
  {
   "cell_type": "code",
   "execution_count": 10,
   "id": "c539db14-1b53-4da1-a5a0-cb1fd44a6501",
   "metadata": {},
   "outputs": [
    {
     "data": {
      "text/plain": [
       "(5765, 3)"
      ]
     },
     "execution_count": 10,
     "metadata": {},
     "output_type": "execute_result"
    }
   ],
   "source": [
    "df_sample.shape"
   ]
  },
  {
   "cell_type": "code",
   "execution_count": 11,
   "id": "98e6fc07-6151-4bcf-982e-088f4e9073b3",
   "metadata": {},
   "outputs": [],
   "source": [
    "#text cleaning\n",
    "df_sample['text'] = df_sample['text'].str.lower().replace(r'^\\w\\s',' ').replace(r'\\n',' ',regex = True)"
   ]
  },
  {
   "cell_type": "code",
   "execution_count": 12,
   "id": "6f5f3815-4f4b-45da-aaf7-3af20ce6be08",
   "metadata": {},
   "outputs": [
    {
     "name": "stderr",
     "output_type": "stream",
     "text": [
      "[nltk_data] Downloading package punkt to\n",
      "[nltk_data]     C:\\Users\\91727\\AppData\\Roaming\\nltk_data...\n",
      "[nltk_data]   Package punkt is already up-to-date!\n"
     ]
    }
   ],
   "source": [
    "import nltk\n",
    "nltk.download('punkt')\n",
    "from nltk.stem.porter import PorterStemmer"
   ]
  },
  {
   "cell_type": "code",
   "execution_count": 13,
   "id": "703f83fe-a6d2-4fb4-9ffe-d16e7d4b6aa8",
   "metadata": {},
   "outputs": [],
   "source": [
    "stemmer = PorterStemmer()"
   ]
  },
  {
   "cell_type": "code",
   "execution_count": 14,
   "id": "999390d6-ca30-4095-9be0-8e94f66664ed",
   "metadata": {},
   "outputs": [],
   "source": [
    "def token(txt):\n",
    "    token = nltk.word_tokenize(txt)\n",
    "    a = [stemmer.stem(w) for w in token]\n",
    "    return \" \".join(a)"
   ]
  },
  {
   "cell_type": "code",
   "execution_count": 15,
   "id": "cf5b0e50-0fdb-4607-83a3-021ecfc9ef47",
   "metadata": {},
   "outputs": [
    {
     "data": {
      "text/plain": [
       "0       never know how much i love you , never know ho...\n",
       "1       i hope it 's not too late just to say that i '...\n",
       "2       i have been a washer up an ' he ha been a scru...\n",
       "3       it 's begin to look a lot like christma everyw...\n",
       "4       i 've seen the rain pour down the sky wa gray ...\n",
       "                              ...                        \n",
       "5760    i want to see word by ray boltz , music by ste...\n",
       "5761    is thi the end of the begin ? or the begin of ...\n",
       "5762    if i had my druther i 'd go fish find myself a...\n",
       "5763    across the border they turn water into wine so...\n",
       "5764    i walk thi road so veri long ago to show the w...\n",
       "Name: text, Length: 5765, dtype: object"
      ]
     },
     "execution_count": 15,
     "metadata": {},
     "output_type": "execute_result"
    }
   ],
   "source": [
    "df_sample['text'].apply(lambda x: token(x))"
   ]
  },
  {
   "cell_type": "code",
   "execution_count": 16,
   "id": "659b6e35-25b6-4324-ba2b-ab8f67b67e09",
   "metadata": {},
   "outputs": [],
   "source": [
    "from sklearn.feature_extraction.text import TfidfVectorizer\n",
    "from sklearn.metrics.pairwise import cosine_similarity\n"
   ]
  },
  {
   "cell_type": "code",
   "execution_count": 17,
   "id": "1e8e32ed-1942-4f84-8384-dba04fa89209",
   "metadata": {},
   "outputs": [],
   "source": [
    "tfid = TfidfVectorizer(analyzer='word',stop_words='english')"
   ]
  },
  {
   "cell_type": "code",
   "execution_count": 18,
   "id": "48df8727-ced5-4362-9386-67b653ce7730",
   "metadata": {},
   "outputs": [],
   "source": [
    "matrix = tfid.fit_transform(df_sample['text'])"
   ]
  },
  {
   "cell_type": "code",
   "execution_count": 19,
   "id": "8b5a8cca-e372-4d02-b1d7-899489c7ee81",
   "metadata": {},
   "outputs": [],
   "source": [
    "similar = cosine_similarity(matrix)"
   ]
  },
  {
   "cell_type": "code",
   "execution_count": 20,
   "id": "b4356eac-3ec0-4570-859e-68c74019a2d0",
   "metadata": {},
   "outputs": [
    {
     "data": {
      "text/plain": [
       "array([1.        , 0.02779891, 0.00839435, ..., 0.01461337, 0.02255859,\n",
       "       0.01815544])"
      ]
     },
     "execution_count": 20,
     "metadata": {},
     "output_type": "execute_result"
    }
   ],
   "source": [
    "similar[0]"
   ]
  },
  {
   "cell_type": "code",
   "execution_count": 21,
   "id": "b5c45ba3-d093-4247-9e04-70f113f8dc6a",
   "metadata": {},
   "outputs": [
    {
     "data": {
      "text/html": [
       "<div>\n",
       "<style scoped>\n",
       "    .dataframe tbody tr th:only-of-type {\n",
       "        vertical-align: middle;\n",
       "    }\n",
       "\n",
       "    .dataframe tbody tr th {\n",
       "        vertical-align: top;\n",
       "    }\n",
       "\n",
       "    .dataframe thead th {\n",
       "        text-align: right;\n",
       "    }\n",
       "</style>\n",
       "<table border=\"1\" class=\"dataframe\">\n",
       "  <thead>\n",
       "    <tr style=\"text-align: right;\">\n",
       "      <th></th>\n",
       "      <th>artist</th>\n",
       "      <th>song</th>\n",
       "      <th>text</th>\n",
       "    </tr>\n",
       "  </thead>\n",
       "  <tbody>\n",
       "    <tr>\n",
       "      <th>5760</th>\n",
       "      <td>Ray Boltz</td>\n",
       "      <td>I Want To See</td>\n",
       "      <td>i want to see  \\r words by ray boltz, music by...</td>\n",
       "    </tr>\n",
       "    <tr>\n",
       "      <th>5761</th>\n",
       "      <td>Black Sabbath</td>\n",
       "      <td>End Of The Beginning</td>\n",
       "      <td>is this the end of the beginning?  \\r or the b...</td>\n",
       "    </tr>\n",
       "    <tr>\n",
       "      <th>5762</th>\n",
       "      <td>John Denver</td>\n",
       "      <td>Druthers</td>\n",
       "      <td>if i had my druthers i'd go fishing  \\r find m...</td>\n",
       "    </tr>\n",
       "    <tr>\n",
       "      <th>5763</th>\n",
       "      <td>Bon Jovi</td>\n",
       "      <td>Dry County</td>\n",
       "      <td>across the border they turn water into wine  \\...</td>\n",
       "    </tr>\n",
       "    <tr>\n",
       "      <th>5764</th>\n",
       "      <td>Michael W. Smith</td>\n",
       "      <td>I'm Waiting For You</td>\n",
       "      <td>i walked this road  \\r so very long ago  \\r to...</td>\n",
       "    </tr>\n",
       "  </tbody>\n",
       "</table>\n",
       "</div>"
      ],
      "text/plain": [
       "                artist                  song  \\\n",
       "5760         Ray Boltz         I Want To See   \n",
       "5761     Black Sabbath  End Of The Beginning   \n",
       "5762       John Denver              Druthers   \n",
       "5763          Bon Jovi            Dry County   \n",
       "5764  Michael W. Smith   I'm Waiting For You   \n",
       "\n",
       "                                                   text  \n",
       "5760  i want to see  \\r words by ray boltz, music by...  \n",
       "5761  is this the end of the beginning?  \\r or the b...  \n",
       "5762  if i had my druthers i'd go fishing  \\r find m...  \n",
       "5763  across the border they turn water into wine  \\...  \n",
       "5764  i walked this road  \\r so very long ago  \\r to...  "
      ]
     },
     "execution_count": 21,
     "metadata": {},
     "output_type": "execute_result"
    }
   ],
   "source": [
    "df_sample.tail(5)"
   ]
  },
  {
   "cell_type": "code",
   "execution_count": 22,
   "id": "53b7b23a-43ce-4ddc-8908-0e31d8bb263b",
   "metadata": {},
   "outputs": [
    {
     "data": {
      "text/plain": [
       "1335"
      ]
     },
     "execution_count": 22,
     "metadata": {},
     "output_type": "execute_result"
    }
   ],
   "source": [
    "df[df['song'] == 'The Last Time'].index[0]"
   ]
  },
  {
   "cell_type": "markdown",
   "id": "f80c2472-2fa8-4716-ab09-c8bd62872ab8",
   "metadata": {},
   "source": [
    "Recommender Function"
   ]
  },
  {
   "cell_type": "markdown",
   "id": "a57d6793-173a-4534-ba16-800a5112ae4d",
   "metadata": {},
   "source": [
    "Recommender Function"
   ]
  },
  {
   "cell_type": "code",
   "execution_count": 23,
   "id": "26d3030c-0c83-4b41-af74-1f2beae3e9b4",
   "metadata": {},
   "outputs": [],
   "source": [
    "def recommender(song_name):\n",
    "    idx = df[df['song'] == song_name].index[0]\n",
    "    distance = sorted(list(enumerate(similar[idx])),reverse = True,key = lambda x:x[1])\n",
    "    song = []\n",
    "    for s_id in distance[1:21]:\n",
    "        song.append(df.iloc[s_id[0]].song)\n",
    "    return song"
   ]
  },
  {
   "cell_type": "code",
   "execution_count": 24,
   "id": "58880852-6a53-412c-95cb-fb4190d430a7",
   "metadata": {},
   "outputs": [
    {
     "data": {
      "text/plain": [
       "['Dear God',\n",
       " 'Sweet Leilani',\n",
       " 'Horribly Hazardous Heffalumps',\n",
       " 'Under My Skin',\n",
       " 'Bang-Bang',\n",
       " 'River',\n",
       " 'At Last',\n",
       " 'Love For Sale',\n",
       " 'If I Close My Eyes',\n",
       " 'The Message In The Middle Of The Bottom',\n",
       " \"Ain't It A Shame\",\n",
       " 'Come Around',\n",
       " 'Syndication',\n",
       " 'A Hunting We Will Go',\n",
       " 'Girls! Girls! Girls!',\n",
       " 'Spin The Wheel',\n",
       " 'Happy Song',\n",
       " 'Mirror',\n",
       " \"Baby Don't Get Hooked On Me\",\n",
       " 'The Things You Said']"
      ]
     },
     "execution_count": 24,
     "metadata": {},
     "output_type": "execute_result"
    }
   ],
   "source": [
    "recommender(\"The Last Time\")"
   ]
  },
  {
   "cell_type": "code",
   "execution_count": 25,
   "id": "2a0bdbb4-8655-467f-9769-9768a22e31e9",
   "metadata": {},
   "outputs": [],
   "source": [
    "import pickle"
   ]
  },
  {
   "cell_type": "code",
   "execution_count": 26,
   "id": "09b8dc5f-9d20-46f2-bf2c-e905169e64ed",
   "metadata": {},
   "outputs": [],
   "source": [
    "pickle.dump(similar, open(\"similarity\",\"wb\"))"
   ]
  },
  {
   "cell_type": "code",
   "execution_count": 27,
   "id": "89c528ed-8576-4272-a64c-644fc837ea50",
   "metadata": {},
   "outputs": [],
   "source": [
    "pickle.dump(df,open(\"df\",\"wb\"))"
   ]
  },
  {
   "cell_type": "code",
   "execution_count": null,
   "id": "3bd44797-973d-4306-8793-6b4ca724d393",
   "metadata": {},
   "outputs": [],
   "source": []
  }
 ],
 "metadata": {
  "kernelspec": {
   "display_name": "Python 3",
   "language": "python",
   "name": "python3"
  },
  "language_info": {
   "codemirror_mode": {
    "name": "ipython",
    "version": 3
   },
   "file_extension": ".py",
   "mimetype": "text/x-python",
   "name": "python",
   "nbconvert_exporter": "python",
   "pygments_lexer": "ipython3",
   "version": "3.12.4"
  }
 },
 "nbformat": 4,
 "nbformat_minor": 5
}
